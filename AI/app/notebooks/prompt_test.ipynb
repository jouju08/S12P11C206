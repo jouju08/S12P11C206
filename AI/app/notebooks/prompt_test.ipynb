{
 "cells": [
  {
   "cell_type": "markdown",
   "metadata": {},
   "source": [
    "# MyFariy AI 프롬프트\n",
    "## 기능 명세\n",
    "1. 낱말로부터 동화 생성\n",
    "2. 음성으로 낱말 인식\n",
    "3. 그림에서부터 동화 삽화 생성\n",
    "4. 동화 내용 물어보며 대화하기"
   ]
  },
  {
   "cell_type": "markdown",
   "metadata": {},
   "source": [
    "동화 읽기\n",
    "\n",
    "입력으로 주어진 내용은 절대 수정하지 않고 그대로 출력합니다. \n",
    "\n",
    "어린이 동화를 연기하며 읽는 모델을 구현하세요. \n",
    "동화 스크립트를 수정하지 않고 있는 글을 그대로 출력하세요.\n",
    "동화의 대사 부분에서는 연기 톤으로 대사를 읽고, 그 외의 부분은 몰입감 있는 동화 내용을 전달하세요.\n",
    "\n",
    "# Steps\n",
    "\n",
    "1. **이해하기**: 먼저 동화 속 상황과 캐릭터들을 분석합니다. 각 캐릭터의 성격과 감정적인 배경을 이해하는 것이 중요합니다.\n",
    "   \n",
    "2. **분석 및 분배**: 이야기에 나오는 대사를 각 캐릭터의 성격에 맞게 분배합니다. 각각의 캐릭터가 가지고 있는 주요 특성을 반영하여 대사를 어떻게 전달할지 계획합니다.\n",
    "\n",
    "3. **연기 적용**: 각 캐릭터의 대사를 연기하며 전달합니다. 목소리 톤, 감정 표현, 발음 등을 고려하여 각 대사를 효율적으로 표현합니다.\n",
    "   \n",
    "4. **내용 전달**: 대사가 아닌 부분은 이야기의 몰입감을 높이는 방식으로 전체적인 내용을 전달합니다.\n",
    "\n",
    "# Notes\n",
    "\n",
    "- 주어진 내용을 수정하지 않습니다.\n",
    "- 캐릭터별 감정과 목소리의 일관성을 유지하는 것이 중요합니다.\n",
    "- 대사의 전달이 내용의 이해를 돕도록 신경을 씁니다."
   ]
  },
  {
   "cell_type": "markdown",
   "metadata": {},
   "source": [
    "동화제목으로 문장 4개 생성\n",
    "# Task Description\n",
    "\n",
    "Create a process that takes the title of a fairy tale as input and identifies four words from the story, excluding the characters, that can be replaced for adaptation. Each word must be replaceable by \"XX,\" forming a total of four sentences, one for each word. The chosen words should represent objects or concepts that can be visually depicted.\n",
    "\n",
    "---\n",
    "\n",
    "## Steps\n",
    "\n",
    "1. Understand the plot of the fairy tale based on the given title.\n",
    "2. Identify four key words from the story that can be visualized and are not the names of characters. Each word should refer to a distinct object or concept.\n",
    "3. Replace each selected word with \"XX\" in a sentence and construct four sentences.\n",
    "4. translate the sentences into Korean.\n",
    "---\n",
    "\n",
    "### Output Format\n",
    "\n",
    "- The output consists of four sentences, each with one word replaced by \"XX.\"\n",
    "- Example: \"Once upon a time, there was a kingdom called XX.\"\n",
    "\n",
    "---\n",
    "\n",
    "### Examples\n",
    "\n",
    "**Input:** The Three Little Pigs  \n",
    "**Output:**\n",
    "1. The first little pig built a house made of XX.  \n",
    "2. The second little pig built a house made of XX.  \n",
    "3. The third little pig built a house made of XX.  \n",
    "4. The wolf destroyed the little pigs’ house with XX.  \n",
    "\n",
    "---\n",
    "\n",
    "### Notes\n",
    "\n",
    "- Do not select character names as replaceable words.  \n",
    "- Ensure the sentences are natural and align with the plot of the story.  \n",
    "- Use descriptions that stay true to the scenes or narrative of the fairy tale.  \n"
   ]
  },
  {
   "cell_type": "markdown",
   "metadata": {},
   "source": [
    "문장 4개로 동화 생성\n",
    "아기돼지 삼형제\n",
    "1. \"첫번째 아기돼지는 구름으로 만든 집을 지었습니다.\" \n",
    "2. \"두번째 아기돼지는 깃털으로 만든 집을 지었습니다.\" \n",
    "3. \"세번째 아기돼지는 초콜릿으로 만든 집을 지었습니다.\" \n",
    "4. \"늑대는 아기돼지의 집을 망치로 무너뜨렸습니다.\"\n",
    "\n",
    "\n",
    "Given the title and four adapted sentences from a fairy tale, use the original content of the fairy tale to craft a complete story. Use the four sentences to structure your story, ensuring it is divided into four paragraphs.\n",
    "\n",
    "# Steps\n",
    "\n",
    "1. **Understand the Title and Sentences**: Analyze the title and the four provided sentences. Identify the core elements and themes of the tale based on these.\n",
    "2. **Reference Original Content**: Recall or research the original plot of the given fairy tale to guide the story development.\n",
    "3. **Construct Each Paragraph**: \n",
    "   - Use each of the four sentences to frame a paragraph. The sentence should guide the central idea or event of the paragraph.\n",
    "   - Expand on the key elements and themes identified, ensuring a cohesive story development.\n",
    "4. **Ensure Cohesion and Flow**: Maintain logical progression and narrative consistency throughout the four paragraphs. Each paragraph should build upon the previous one to contribute to a coherent and complete story.\n",
    "\n",
    "# Output Format\n",
    "\n",
    "- The output should consist of four paragraphs.\n",
    "- Each paragraph should develop one of the provided sentences into a fuller narrative, aligned with the original fairy tale content.\n",
    "\n",
    "# Examples\n",
    "\n",
    "**Given Title and Sentences**:\n",
    "- Title: \"Jack and the Beanstalk\"\n",
    "- Sentences:\n",
    "  1. \"Jack climbed the towering beanstalk, reaching the clouds.\"\n",
    "  2. \"He discovered a giant’s castle, hidden above the world.\"\n",
    "  3. \"With courage, he stole a golden harp that sang morning songs.\"\n",
    "  4. \"The beanstalk began to shake as he escaped, with the giant in pursuit.\"\n",
    "\n",
    "**Output**:\n",
    "1. Jack was a curious boy who lived with his widowed mother in a small cottage. One day, he traded their cow for a handful of magic beans, which he planted outside. By morning, a towering beanstalk had grown, reaching up into the clouds. Without hesitation, Jack began to climb it, eager to discover what lay above.\n",
    "   \n",
    "2. When he arrived at the top, Jack was amazed to find a vast castle belonging to a fearsome giant. Despite the danger, his curiosity got the better of him. Stealthily, Jack entered the giant's castle, carefully avoiding being seen. The grandeur of the place left him in awe, yet he stayed alert, remembering his mother’s warnings about danger.\n",
    "\n",
    "3. Inside, Jack discovered a room filled with treasures. Among them was a golden harp that played beautiful morning songs by itself. He knew this harp could bring joy and prosperity to his mother and him. Gathering his courage, Jack seized the harp, ensuring not to make a sound that could alert the giant.\n",
    "\n",
    "4. As Jack hurried toward the beanstalk, the harp suddenly began to play, waking the giant who roared in anger. Jack climbed down quickly, the beanstalk shaking violently as the giant tried to reach him. In his panic, Jack cut down the beanstalk just in time, causing the giant to fall to his doom. Safe at last, Jack and his mother celebrated their fortune and newfound happiness."
   ]
  },
  {
   "cell_type": "markdown",
   "metadata": {},
   "source": [
    "이미지 프롬프트 작성\n",
    "\n",
    "Create a set of prompts for an AI illustration tool intended to generate images for a children's storybook. You will receive the storybook title and four paragraphs, each describing a scene to illustrate. Your task is to use the information from the title and each paragraph to craft a specific prompt for the Stable Diffusion model, as well as a negative prompt that specifies what should not be included.\n",
    "\n",
    "# Steps\n",
    "\n",
    "1. **Analyze Inputs**: Carefully read the storybook title and each paragraph to identify key details, themes, characters, settings, and emotions.\n",
    "2. **Create Stable Diffusion Prompts**:\n",
    "   - For each paragraph, use the details identified to draft a clear and imaginative prompt that vividly describes the desired illustration.\n",
    "   - Ensure the prompt captures the mood and style suitable for a children's storybook.\n",
    "3. **Draft Negative Prompts**:\n",
    "   - Highlight elements that should be excluded from each illustration, such as inappropriate themes, anachronisms, or specific unwanted details.\n",
    "4. **Repeat for all Paragraphs**: Complete the process for each of the four paragraphs provided.\n",
    "\n",
    "# Output Format\n",
    "\n",
    "Provide each set of prompts as follows:\n",
    "- **Prompt**: Write a descriptive sentence or paragraph for each input paragraph that outlines the desired illustration.\n",
    "- **Negative Prompt**: Specify a list of elements or themes that should not appear in the illustration.\n",
    "\n",
    "# Examples\n",
    "\n",
    "Example Input:\n",
    "\n",
    "Title: 아기돼지 삼형제\n",
    "Scene 1: 늑대가 첫째 돼지의 깃털 집을 후~ 하고 불어 날려버렸어요. 첫째 돼지는 놀라 도망쳐 둘째 돼지의 나뭇가지 집으로 갔습니다.\n",
    "Scene 2: 둘째 돼지는 숲에서 깃털로 집을 짓기 시작했어요. 집은 무지개처럼 빛났지만 형제들은 약하다고 걱정했습니다.\n",
    "Scene 3: 셋째 돼지는 초콜릿 블록으로 튼튼한 집을 짓고, 사탕으로 장식했어요. 형제들은 모두 초콜릿 집의 튼튼함에 감탄했습니다.\n",
    "Scene 4: 늑대는 첫째, 둘째 돼지의 집을 날려버렸지만 초콜릿 집은 부수지 못했습니다. 형제들은 초콜릿 집에서 안전하게 살았습니다.\n",
    "Output\n",
    "1. Scene 1\n",
    "\n",
    "Prompt: A dramatic moment where a large wolf is blowing down a delicate feather house in a lush forest. The feathers scatter like snow in the wind, while the frightened pig runs away toward another house in the distance. The mood is tense but still whimsical and lighthearted.\n",
    "Negative Prompt: No dark tones, harsh lighting, menacing or violent imagery, overly realistic textures, or stormy weather.\n",
    "2. Scene 2\n",
    "\n",
    "Prompt: A cheerful pig proudly building a colorful feather house in a sunny forest clearing. The feathers shimmer like a rainbow, creating a magical and delicate look. The pig appears confident and happy, surrounded by skeptical siblings.\n",
    "Negative Prompt: No dark colors, messy backgrounds, or overly realistic or industrial designs.\n",
    "3. Scene 3\n",
    "\n",
    "Prompt: A cozy, inviting house made of glossy chocolate blocks, decorated with colorful candies. The pig is happily putting on the final touches while the warm sunlight enhances the chocolate's shine. Nearby, the other pigs look on with admiration.\n",
    "Negative Prompt: No dull colors, chaotic details, or cold and lifeless settings.\n",
    "4. Scene 4\n",
    "\n",
    "Prompt: A tense but whimsical scene of the wolf trying to blow down or hammer the chocolate house, which stands firm and unyielding. The three pigs peek out of the safe house, looking relieved and united. The sunny forest adds warmth to the triumphant mood.\n",
    "Negative Prompt: No overly scary wolf imagery, dark or gloomy atmosphere, or lack of natural forest elements.\n",
    "\n",
    "\n",
    "# Notes\n",
    "\n",
    "- Ensure each prompt is positive and suitable for a children's audience.\n",
    "- Pay attention to cultural, seasonal, or historical elements indicated in the story title or paragraphs."
   ]
  },
  {
   "cell_type": "code",
   "execution_count": 34,
   "metadata": {},
   "outputs": [],
   "source": [
    "import app.config.init_config\n",
    "from langchain_openai import ChatOpenAI\n",
    "\n",
    "llm = ChatOpenAI(temperature=0.1)"
   ]
  },
  {
   "cell_type": "code",
   "execution_count": 5,
   "metadata": {},
   "outputs": [
    {
     "name": "stdout",
     "output_type": "stream",
     "text": [
      "['성냥팔이 소녀는 XX을 피워 따뜻함을 느꼈습니다.', '성냥팔이 소녀는 XX을 보며 행복한 꿈을 꾸었습니다.', '성냥팔이 소녀는 XX을 따라 떠나 행복한 세상을 상상했습니다.', '성냥팔이 소녀는 XX을 통해 가족과 함께 행복한 시간을 보냈습니다.']\n"
     ]
    }
   ],
   "source": [
    "from app.core.chains.extract_sentence_from_title import prompt as extract_sentence_from_title_prompt, Parser as ExtractSentenceFromTitleOutputParser\n",
    "chain = extract_sentence_from_title_prompt | llm | ExtractSentenceFromTitleOutputParser()\n",
    "\n",
    "response = chain.invoke({\"question\": \"성냥팔이 소녀\"})\n",
    "print(response)"
   ]
  },
  {
   "cell_type": "code",
   "execution_count": 33,
   "metadata": {},
   "outputs": [
    {
     "name": "stdout",
     "output_type": "stream",
     "text": [
      "추운 겨울밤, 작은 소녀는 성냥을 팔며 길가에 서 있었습니다. 사람들은 바쁘게 지나가면서도 소녀에게 시선 한 번 주지 않았어요. 소녀는 성냥을 하나 비춰 보았는데, 그 빛으로 편지지를 피워 따뜻함을 느꼈습니다. \"따뜻한 집이 그리워\"\n",
      "성냥불이 비치는 동안, 소녀는 동생을 상상했습니다. 동생과 함께 행복한 순간들이 떠올랐어요. 소녀는 동생을 보며 행복한 꿈을 꾸었습니다. \"우리도 따뜻한 곳에서 행복할 텐데\"\n",
      "소녀는 고향을 그리워하며, 성냥을 하나 더 켰어요. 그 순간, 소녀는 고향을 따라 떠나 행복한 세상을 상상했습니다. 그리고 그 행복한 상상 속에서 소녀는 미소를 지었어요. \n",
      "마지막 성냥을 피우며, 소녀는 벽난로를 통해 가족과 함께 행복한 시간을 보냈습니다. 따뜻한 불빛 아래, 소녀는 가족과 함께하는 행복한 모습을 상상했어요. 결국, 소녀는 힘든 현실을 이겨내며 희망을 가져가는 법을 배웠습니다.\n"
     ]
    }
   ],
   "source": [
    "from app.core.chains.create_tale import prompt as create_tale_prompt, Parser as CreateTaleOutputParser\n",
    "chain = create_tale_prompt | llm | CreateTaleOutputParser()\n",
    "\n",
    "response = chain.invoke({\n",
    "    \"title\": \"성냥팔이 소녀\",\n",
    "    \"introduction\": \"옛날 어느 겨울밤, 거리에 작은 소녀가 서 있었습니다. 그녀는 성냥을 팔며 하루를 버티는 성냥팔이 소녀였습니다. 그러나 그날은 유난히 추운 날이었고, 길가는 사람들은 누구도 그녀에게 관심을 기울이지 않았습니다.\",\n",
    "    \"sentences\": ['성냥팔이 소녀는 편지지를 피워 따뜻함을 느꼈습니다.', '성냥팔이 소녀는 동생을 보며 행복한 꿈을 꾸었습니다.', '성냥팔이 소녀는 고향을 따라 떠나 행복한 세상을 상상했습니다.', '성냥팔이 소녀는 벽난로를 통해 가족과 함께 행복한 시간을 보냈습니다.']\n",
    "})\n",
    "print(\"\\n\".join(text for text in response))"
   ]
  }
 ],
 "metadata": {
  "kernelspec": {
   "display_name": ".venv",
   "language": "python",
   "name": "python3"
  },
  "language_info": {
   "codemirror_mode": {
    "name": "ipython",
    "version": 3
   },
   "file_extension": ".py",
   "mimetype": "text/x-python",
   "name": "python",
   "nbconvert_exporter": "python",
   "pygments_lexer": "ipython3",
   "version": "3.11.8"
  }
 },
 "nbformat": 4,
 "nbformat_minor": 2
}
