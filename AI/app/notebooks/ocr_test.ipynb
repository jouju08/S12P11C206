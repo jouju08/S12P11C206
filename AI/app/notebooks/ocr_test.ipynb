{
 "cells": [
  {
   "cell_type": "code",
   "execution_count": 15,
   "metadata": {},
   "outputs": [
    {
     "name": "stdout",
     "output_type": "stream",
     "text": [
      "secret_key=ZFpJcUtQa2xZZ3VSRm9QS1l0dmxMaU5WcEtxTXRYQnI=\n",
      "api_url=https://36z2x9yqh1.apigw.ntruss.com/custom/v1/37998/6fcbec142348da6fdfafa49c41624c6a8826a43cb89c3766d52fc3862115b2c5/general\n",
      "start request\n",
      "end request\n"
     ]
    }
   ],
   "source": [
    "import os\n",
    "import uuid\n",
    "import time\n",
    "import json\n",
    "import requests\n",
    "\n",
    "secret_key = os.getenv('NAVER_OCR_SECRET_KEY')\n",
    "api_url = os.getenv('NAVER_OCR_INVOKE_URL')\n",
    "image_file = '../files/test.jpg'\n",
    "print(f\"secret_key={secret_key}\")\n",
    "print(f\"api_url={api_url}\")\n",
    "\n",
    "request_json = {\n",
    "    'images': [\n",
    "        {\n",
    "            'format': 'jpg',\n",
    "            'name': 'demo'\n",
    "        }\n",
    "    ],\n",
    "    'requestId': str(uuid.uuid4()),\n",
    "    'version': 'V2',\n",
    "    'timestamp': int(round(time.time() * 1000))\n",
    "}\n",
    "\n",
    "payload = {'message': json.dumps(request_json).encode('UTF-8')}\n",
    "files = [\n",
    "  ('file', open(image_file,'rb'))\n",
    "]\n",
    "headers = {\n",
    "  'X-OCR-SECRET': secret_key\n",
    "}\n",
    "\n",
    "print(\"start request\")\n",
    "response = requests.request(\"POST\", api_url, headers=headers, data = payload, files = files)\n",
    "print(\"end request\")\n"
   ]
  },
  {
   "cell_type": "code",
   "execution_count": 16,
   "metadata": {},
   "outputs": [
    {
     "name": "stdout",
     "output_type": "stream",
     "text": [
      "{'version': 'V2', 'requestId': '24edbb3d-9918-495a-8dba-2e63d63c418f', 'timestamp': 1737875376661, 'images': [{'uid': '14cd3023f03e4a81914f8df9c629a69e', 'name': 'demo', 'inferResult': 'SUCCESS', 'message': 'SUCCESS', 'validationResult': {'result': 'NO_REQUESTED'}, 'convertedImageInfo': {'width': 1021, 'height': 726, 'pageIndex': 0, 'longImage': False}, 'fields': [{'valueType': 'ALL', 'boundingPoly': {'vertices': [{'x': 102.0, 'y': 167.0}, {'x': 444.0, 'y': 83.0}, {'x': 483.0, 'y': 243.0}, {'x': 141.0, 'y': 327.0}]}, 'inferText': '감자', 'inferConfidence': 0.9991, 'type': 'NORMAL', 'lineBreak': False}, {'valueType': 'ALL', 'boundingPoly': {'vertices': [{'x': 592.0, 'y': 67.0}, {'x': 837.0, 'y': 67.0}, {'x': 837.0, 'y': 242.0}, {'x': 592.0, 'y': 242.0}]}, 'inferText': '망치', 'inferConfidence': 1.0, 'type': 'NORMAL', 'lineBreak': True}, {'valueType': 'ALL', 'boundingPoly': {'vertices': [{'x': 193.0, 'y': 274.0}, {'x': 283.0, 'y': 274.0}, {'x': 283.0, 'y': 356.0}, {'x': 193.0, 'y': 356.0}]}, 'inferText': '12', 'inferConfidence': 0.9994, 'type': 'NORMAL', 'lineBreak': True}, {'valueType': 'ALL', 'boundingPoly': {'vertices': [{'x': 151.0, 'y': 519.0}, {'x': 392.0, 'y': 455.0}, {'x': 431.0, 'y': 602.0}, {'x': 189.0, 'y': 666.0}]}, 'inferText': '고기', 'inferConfidence': 1.0, 'type': 'NORMAL', 'lineBreak': False}, {'valueType': 'ALL', 'boundingPoly': {'vertices': [{'x': 655.0, 'y': 398.0}, {'x': 789.0, 'y': 398.0}, {'x': 789.0, 'y': 559.0}, {'x': 655.0, 'y': 559.0}]}, 'inferText': '깃', 'inferConfidence': 0.9926, 'type': 'NORMAL', 'lineBreak': False}, {'valueType': 'ALL', 'boundingPoly': {'vertices': [{'x': 761.0, 'y': 353.0}, {'x': 948.0, 'y': 353.0}, {'x': 948.0, 'y': 541.0}, {'x': 761.0, 'y': 541.0}]}, 'inferText': '덜', 'inferConfidence': 0.8664, 'type': 'NORMAL', 'lineBreak': True}]}]}\n"
     ]
    }
   ],
   "source": [
    "result = json.loads(response.text)\n",
    "print(result)"
   ]
  },
  {
   "cell_type": "code",
   "execution_count": 18,
   "metadata": {},
   "outputs": [
    {
     "name": "stdout",
     "output_type": "stream",
     "text": [
      "감자\n",
      "망치\n",
      "12\n",
      "고기\n",
      "깃\n",
      "덜\n"
     ]
    }
   ],
   "source": [
    "test = result['images'][0]['fields']\n",
    "for item in test:\n",
    "    print(item['inferText'])"
   ]
  },
  {
   "cell_type": "code",
   "execution_count": null,
   "metadata": {},
   "outputs": [],
   "source": []
  }
 ],
 "metadata": {
  "kernelspec": {
   "display_name": ".venv",
   "language": "python",
   "name": "python3"
  },
  "language_info": {
   "codemirror_mode": {
    "name": "ipython",
    "version": 3
   },
   "file_extension": ".py",
   "mimetype": "text/x-python",
   "name": "python",
   "nbconvert_exporter": "python",
   "pygments_lexer": "ipython3",
   "version": "3.11.5"
  }
 },
 "nbformat": 4,
 "nbformat_minor": 2
}
