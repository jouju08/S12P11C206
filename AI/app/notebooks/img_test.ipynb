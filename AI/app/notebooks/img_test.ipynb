{
 "cells": [
  {
   "cell_type": "code",
   "execution_count": 4,
   "metadata": {},
   "outputs": [
    {
     "ename": "TypeError",
     "evalue": "NovitaClient.img2img_v3() missing 3 required positional arguments: 'input_image', 'prompt', and 'image_num'",
     "output_type": "error",
     "traceback": [
      "\u001b[1;31m---------------------------------------------------------------------------\u001b[0m",
      "\u001b[1;31mTypeError\u001b[0m                                 Traceback (most recent call last)",
      "Cell \u001b[1;32mIn[4], line 20\u001b[0m\n\u001b[0;32m      4\u001b[0m client \u001b[38;5;241m=\u001b[39m NovitaClient(os\u001b[38;5;241m.\u001b[39mgetenv(\u001b[38;5;124m'\u001b[39m\u001b[38;5;124mNOVITA_API_KEY\u001b[39m\u001b[38;5;124m'\u001b[39m))\n\u001b[0;32m      6\u001b[0m req \u001b[38;5;241m=\u001b[39m Img2ImgRequest(\n\u001b[0;32m      7\u001b[0m   model_name\u001b[38;5;241m=\u001b[39m\u001b[38;5;124m'\u001b[39m\u001b[38;5;124mAnythingV5_v5PrtRE.safetensors\u001b[39m\u001b[38;5;124m'\u001b[39m,\n\u001b[0;32m      8\u001b[0m   init_images\u001b[38;5;241m=\u001b[39m[\u001b[38;5;124m'\u001b[39m\u001b[38;5;124mdata:image/png;base64,iVBORw0KGgoAAAANSUhEUgAAA7gAAAHWCAYAAABdWCVYAAAAAXNSR0IArs4c6QAAAARnQU1BAACxjwv8YQUAAAAJcEhZcwAAHYcAAB2HAY/l8WUAAI8ZSURBVHhe7f1/UFR3vjf6vqO4aSVJo0SEjhBwxMAM7kAw21ayH5HMTcQ9N0PPrdxA3TMHqZNni3UyjtZsnsQqvWppleY4uTpMTon7SRVQ2XUlZ+oMTJ45YqwJ4t1i2icS8JGMRBwhoIhtUNoE7d6iuX+s7tVrLRroH6u711r9flVZrl7rK3Y3C3q91/f7/Xyf+OGHH34AERERERERkc7NUe4gIiIiIiIi0iMGXCIiIiIiIjIEBlwiIiIiIiIyBAZcIiIiIiIiMgQGXCIiIiIiIjIEBlwiIiIiIiIyBAZcIiIiIiIiMgQGXCIiIiIiIjIEBlwiIiIiIiIyBAZcIiIiIiIiMgQGXCIiIiIiIjIEBl...\u001b[39m\u001b[38;5;124m'\u001b[39m],\n\u001b[1;32m   (...)\u001b[0m\n\u001b[0;32m     18\u001b[0m   seed\u001b[38;5;241m=\u001b[39m\u001b[38;5;241m-\u001b[39m\u001b[38;5;241m1\u001b[39m,\n\u001b[0;32m     19\u001b[0m )\n\u001b[1;32m---> 20\u001b[0m save_image(\u001b[43mclient\u001b[49m\u001b[38;5;241;43m.\u001b[39;49m\u001b[43mimg2img_v3\u001b[49m\u001b[43m \u001b[49m\u001b[43m(\u001b[49m\u001b[43mreq\u001b[49m\u001b[43m)\u001b[49m\u001b[38;5;241m.\u001b[39mdata\u001b[38;5;241m.\u001b[39mimgs_bytes[\u001b[38;5;241m0\u001b[39m], \u001b[38;5;124m'\u001b[39m\u001b[38;5;124moutput.png\u001b[39m\u001b[38;5;124m'\u001b[39m)\n",
      "\u001b[1;31mTypeError\u001b[0m: NovitaClient.img2img_v3() missing 3 required positional arguments: 'input_image', 'prompt', and 'image_num'"
     ]
    }
   ],
   "source": [
    "import os\n",
    "from novita_client import NovitaClient, Img2ImgRequest, Samplers, ModelType, save_image\n",
    "\n",
    "client = NovitaClient(os.getenv('NOVITA_API_KEY'))\n",
    "\n",
    "req = Img2ImgRequest(\n",
    "  model_name='AnythingV5_v5PrtRE.safetensors',\n",
    "  init_images=['data:image/png;base64,iVBORw0KGgoAAAANSUhEUgAAA7gAAAHWCAYAAABdWCVYAAAAAXNSR0IArs4c6QAAAARnQU1BAACxjwv8YQUAAAAJcEhZcwAAHYcAAB2HAY/l8WUAAI8ZSURBVHhe7f1/UFR3vjf6vqO4aSVJo0SEjhBwxMAM7kAw21ayH5HMTcQ9N0PPrdxA3TMHqZNni3UyjtZsnsQqvWppleY4uTpMTon7SRVQ2XUlZ+oMTJ45YqwJ4t1i2icS8JGMRBwhoIhtUNoE7d6iuX+s7tVrLRroH6u711r9flVZrl7rK3Y3C3q91/f7/Xyf+OGHH34AERERERERkc7NUe4gIiIiIiIi0iMGXCIiIiIiIjIEBlwiIiIiIiIyBAZcIiIiIiIiMgQGXCIiIiIiIjIEBlwiIiIiIiIyBAZcIiIiIiIiMgQGXCIiIiIiIjIEBlwiIiIiIiIyBAZcIiIiIiIiMgQGXCIiIiIiIjIEBl...'],\n",
    "  prompt='(high Quality), ((cute)), (Fairytale style), A delightful pig putting together a sturdy house made of rich chocolate in a sunny chocolate land. The house is adorned with sweet candies, exuding a warm and inviting feel. The pig appears content and proud of the chocolate creation.',\n",
    "  negative_prompt='No messy chocolate textures, dull colors, or unappetizing candy decorations. ((No letters))',\n",
    "  width=512,\n",
    "  height=512,\n",
    "  sampler_name=\"DPM++ 2S a Karras\",\n",
    "  cfg_scale=7.5,\n",
    "  steps=30,\n",
    "  batch_size=1,\n",
    "  n_iter=1,\n",
    "  seed=-1,\n",
    ")\n",
    "save_image(client.img2img_v3 (req).data.imgs_bytes[0], 'output.png')"
   ]
  }
 ],
 "metadata": {
  "kernelspec": {
   "display_name": ".venv",
   "language": "python",
   "name": "python3"
  },
  "language_info": {
   "codemirror_mode": {
    "name": "ipython",
    "version": 3
   },
   "file_extension": ".py",
   "mimetype": "text/x-python",
   "name": "python",
   "nbconvert_exporter": "python",
   "pygments_lexer": "ipython3",
   "version": "3.11.8"
  }
 },
 "nbformat": 4,
 "nbformat_minor": 2
}
